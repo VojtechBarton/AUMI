{
 "cells": [
  {
   "cell_type": "markdown",
   "metadata": {},
   "source": [
    "# __AUMI Cvičení 02__\n",
    "- Bioinformatické databáze, formáty dat, základní manipulace se sekvencemi"
   ]
  },
  {
   "cell_type": "markdown",
   "metadata": {},
   "source": [
    "## __05.1. Centrální dogma molekulární biologie__\n",
    "Centrální dogma molekulární biologie popisuje cestu přenosu informace mezi biopolymery. V principu dovoluje přepis mezi nukleovými kyselinami a překlad z RNA do proteinů. To má za důsledek nemožnost toku informací z bílkovin do nukleových kyselin, a tedy zanášení změn v organismu zpět do genetické informace – tím je mj. popřen základní předpoklad teorie lamarckismu (dle níž se získané vlastnosti a dovednosti dědí). [1]"
   ]
  },
  {
   "cell_type": "markdown",
   "metadata": {},
   "source": [
    "## __05.2. IUPAC kódování__\n"
   ]
  },
  {
   "cell_type": "markdown",
   "metadata": {},
   "source": [
    "## __05.3. Genetický kód__\n"
   ]
  },
  {
   "cell_type": "markdown",
   "metadata": {},
   "source": [
    "## __05.4. Datové formáty pro uložení sekvencí__\n",
    "### FASTA\n",
    "\n",
    "### GenBank\n",
    "\n",
    "### PDB\n"
   ]
  },
  {
   "cell_type": "markdown",
   "metadata": {},
   "source": [
    "## __05.5. NCBI__\n"
   ]
  },
  {
   "cell_type": "markdown",
   "metadata": {},
   "source": [
    "## __05.6. Potřebné balíčky__\n",
    "- scikit-bio http://scikit-bio.org/"
   ]
  },
  {
   "cell_type": "markdown",
   "metadata": {},
   "source": [
    "## __05.7. Úkol 1:__\n",
    "- Stáhněte z databáze NCBI kompletní mitochondriální genom člověka ve formátech fasta a genbank.\n",
    "- Vyseparujte z kompletního genomu sekvence 13 mitochondriálních genů.\n",
    "- Všechny geny přeložte do proteinu. Zvolte správný genetický kód.\n",
    "- Všechny proteinové sekvence uložte do společného fasta souboru. Nezapoměňte každé sekvenci definovat hlavičku.\n"
   ]
  },
  {
   "cell_type": "code",
   "execution_count": 4,
   "metadata": {},
   "outputs": [],
   "source": [
    "### Místo pro váš kód\n",
    "import skbio\n"
   ]
  },
  {
   "cell_type": "markdown",
   "metadata": {},
   "source": [
    "## __Reference__\n",
    "1. https://cs.wikipedia.org/wiki/Centr%C3%A1ln%C3%AD_dogma_molekul%C3%A1rn%C3%AD_biologie\n",
    "2. "
   ]
  },
  {
   "cell_type": "code",
   "execution_count": null,
   "metadata": {},
   "outputs": [],
   "source": []
  }
 ],
 "metadata": {
  "kernelspec": {
   "display_name": "Python 3",
   "language": "python",
   "name": "python3"
  },
  "language_info": {
   "codemirror_mode": {
    "name": "ipython",
    "version": 3
   },
   "file_extension": ".py",
   "mimetype": "text/x-python",
   "name": "python",
   "nbconvert_exporter": "python",
   "pygments_lexer": "ipython3",
   "version": "3.7.8"
  }
 },
 "nbformat": 4,
 "nbformat_minor": 4
}
