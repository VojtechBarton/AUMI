{
 "cells": [
  {
   "cell_type": "markdown",
   "metadata": {},
   "source": [
    "# __AUMI Cvičení 01__\n",
    "- Struktura a organizace cvičení, bodové nároky\n",
    "- Jupyter Notebook, conda, GIT\n",
    "- opakování Python"
   ]
  },
  {
   "cell_type": "markdown",
   "metadata": {},
   "source": [
    "## __01.1. Struktura a organizace cvičení__\n",
    "\n",
    "### __Organizace cvičení__\n",
    "- Účast na cvičení je povinná.\n",
    "- Studenti jsou povinni splnit bodované aktivity na cvičení, do kterého jsou registrováni.\n",
    "- Bodované aktivity:\n",
    "    - Test I - 20 bodů\n",
    "    - Test II - 20 bodů\n",
    "- pro získání zápočtu je třeba získat alespoň 20 bodů. Opravné termíny pro jednotlivé testy nebudou vypsány.\n",
    "- Veškeré otázky týkající se cvičení řešte se svým cvičícím, otázky k předmětu s přednášejícím/garantem.\n",
    "- Materiály k předmětu jsou zveřejňovány v systému moodle.\n",
    "\n",
    "### __Syllabus cvičení__\n",
    "01. Úvod\n",
    "02. Bioinformatika\n",
    "03. Signály\n",
    "04. Obrazy\n",
    "05. GUI\n",
    "06. Test I\n",
    "07. Databáze\n",
    "08. SQL I\n",
    "09. SQL II\n",
    "10. Vizualizace\n",
    "11. Test II\n",
    "12. OR-CZ\n",
    "13. Konzultace"
   ]
  },
  {
   "cell_type": "markdown",
   "metadata": {},
   "source": [
    "## __01.2. Používané nástroje__\n",
    "\n",
    "### Python\n",
    "Vysokoúrovňový programovací jazyk.\n",
    "\n",
    "### Jupyter Notebook\n",
    "V rámci cvičení je doporučena práce s Jupyter Notebook. Materiály ke cvičením budou také poskytovány ve formátu pro tuto platformu. Pro složitější kódy můžete samozřejmě používat IDE dle své vlastní volby.\n",
    "\n",
    "### Conda\n",
    "Jde o správce balíčků a prostředí. Pro potřeby AUMI budeme využívat distribuci Anaconda, která již v základu obsahuje všechny potřebné základní balíčky a nástroje (Python, Jupyter Notebook, základní balíčky).\n",
    "\n",
    "### GIT\n",
    "Distrubuovaný verzovací systém. Slouží k lepší organizaci projektu. Materiály k jednotlivým cvičením budou distrubuovaný přes GitHub.\n",
    "\n",
    "### SQLite\n",
    "Knihovna implementující malý SQL databázový stroj."
   ]
  },
  {
   "cell_type": "markdown",
   "metadata": {},
   "source": [
    "## __01.3. Opakování__"
   ]
  },
  {
   "cell_type": "markdown",
   "metadata": {},
   "source": [
    "### Prerekvizity\n",
    "- Co je to IDE a interpret jazyka?\n",
    "- Jaký je rozdíl mezi kompilovaným a interpretovaným jazykem?\n",
    "- Jaké máme datové typy v jazyce python?\n",
    "- Vysvětlete pojmy: neměnný datový typ a heterogenní struktura.\n",
    "- Vysvětlete rozdíl mezi lokální a globální proměnnou.\n",
    "- Jaké máme základní nástroje pro kontrolu toku programu?\n",
    "- Jak definujeme funkci? Co je to návratová hodnota?\n",
    "- Co je to objekt?\n",
    "- Jak se liší metoda a atribut objektu?\n"
   ]
  },
  {
   "cell_type": "markdown",
   "metadata": {},
   "source": [
    "### __Úkol 1__\n",
    "- Nakreslete vývojový diagram programu pro nalezení kořenů kvadratické rovnice.\n",
    "- Nakreslený diagram převeďte do kódu a program implementujte jako funkci.\n"
   ]
  },
  {
   "cell_type": "code",
   "execution_count": 2,
   "metadata": {},
   "outputs": [],
   "source": [
    "### Místo pro váš kód"
   ]
  },
  {
   "cell_type": "markdown",
   "metadata": {},
   "source": [
    "### __Úkol 2__\n",
    "- Vytvořte program, který z nabídnutého seznamu čísel vybere a vrátí pouze prvočísla."
   ]
  },
  {
   "cell_type": "code",
   "execution_count": 1,
   "metadata": {},
   "outputs": [],
   "source": [
    "### Místo pro váš kód"
   ]
  },
  {
   "cell_type": "code",
   "execution_count": null,
   "metadata": {},
   "outputs": [],
   "source": []
  }
 ],
 "metadata": {
  "kernelspec": {
   "display_name": "Python 3",
   "language": "python",
   "name": "python3"
  },
  "language_info": {
   "codemirror_mode": {
    "name": "ipython",
    "version": 3
   },
   "file_extension": ".py",
   "mimetype": "text/x-python",
   "name": "python",
   "nbconvert_exporter": "python",
   "pygments_lexer": "ipython3",
   "version": "3.7.8"
  }
 },
 "nbformat": 4,
 "nbformat_minor": 4
}
