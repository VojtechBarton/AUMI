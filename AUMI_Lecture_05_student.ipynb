{
 "cells": [
  {
   "cell_type": "markdown",
   "metadata": {},
   "source": [
    "# AUMI Cvičení 05\n",
    "GUI"
   ]
  },
  {
   "cell_type": "code",
   "execution_count": 2,
   "metadata": {},
   "outputs": [],
   "source": [
    "import tkinter as tk\n",
    "from PIL import Image, ImageTk"
   ]
  },
  {
   "cell_type": "code",
   "execution_count": 3,
   "metadata": {},
   "outputs": [],
   "source": [
    "class Window(tk.Frame):\n",
    "    def __init__(self, master=None):\n",
    "        tk.Frame.__init__(self, master)\n",
    "        self.master = master\n",
    "        \n",
    "root = tk.Tk()\n",
    "app = Window(root)\n",
    "\n",
    "root.mainloop()"
   ]
  },
  {
   "cell_type": "code",
   "execution_count": 4,
   "metadata": {},
   "outputs": [],
   "source": [
    "class Window(tk.Frame):\n",
    "    def __init__(self, master=None):\n",
    "        tk.Frame.__init__(self, master)\n",
    "        self.master = master\n",
    "        self.init_window()\n",
    "        \n",
    "    def init_window(self):\n",
    "        self.master.title(\"GUI\")\n",
    "        self.pack(fill=tk.BOTH, expand=1)\n",
    "        quitButton = tk.Button(self, text=\"Quit\", command=self.client_exit())\n",
    "        quitButton.place(x=0, y=0)\n",
    "        \n",
    "    def client_exit(self):\n",
    "        exit()\n",
    "        \n",
    "        \n",
    "root = tk.Tk()\n",
    "root.geometry(\"400x300\")\n",
    "app = Window(root)\n",
    "root.mainloop()"
   ]
  },
  {
   "cell_type": "markdown",
   "metadata": {},
   "source": [
    "### Úkol č. 1"
   ]
  },
  {
   "cell_type": "markdown",
   "metadata": {},
   "source": [
    "Vytvořte jednoduché GUI - Prohlížeč obrázků."
   ]
  },
  {
   "cell_type": "code",
   "execution_count": 1,
   "metadata": {},
   "outputs": [],
   "source": [
    "import tkinter as tk\n",
    "from PIL import Image, ImageTk\n",
    "\n",
    "file = 'pic1.jpg'\n",
    "\n",
    "window = tk.Tk()\n",
    "\n",
    "window.title(file)\n",
    "picture = Image.open(file)\n",
    "tk_picture = ImageTk.PhotoImage(picture)\n",
    "window.geometry(\"{}x{}+100+100\".format(picture.size[0], picture.size[1]))\n",
    "image_widget = tk.Label(window, image=tk_picture)\n",
    "image_widget.place(x=0, y=0, width=picture.size[0], height=picture.size[1])\n",
    "\n",
    "window.mainloop()"
   ]
  },
  {
   "cell_type": "markdown",
   "metadata": {},
   "source": [
    "### Úkol č. 2"
   ]
  },
  {
   "cell_type": "markdown",
   "metadata": {},
   "source": [
    "Program z prvního úkolu rozšiřte. Umožněte uživateli náhled všech souborů v aktuálně zvolené složce. Zobrazte pouze obrazové soubory. Přidejte tlačítka pro přecházení na předchozí/následující obrázek."
   ]
  },
  {
   "cell_type": "code",
   "execution_count": null,
   "metadata": {},
   "outputs": [],
   "source": []
  },
  {
   "cell_type": "markdown",
   "metadata": {},
   "source": [
    "### Úkol č. 3"
   ]
  },
  {
   "cell_type": "markdown",
   "metadata": {},
   "source": [
    "Vytvořte jednoduché GUI pro kontrolu správnosti zadaného rodného čísla. Program umožní uživateli zadat rodné číslo a následně provede jeho kontrolu. Program bude vhodným způsobem indikovat správnost zadaného rodného čísla. V případě nesprávnosti uživateli oznámí, která kontrola selhala a jakou obsahuje rodné číslo chybu.\n",
    "(Pro kontrolu využijte postup ČSSZ: https://www.cssz.cz/web/cz/standardni-kontrola-rodneho-cisla-a-evidencniho-cisla-pojistence)"
   ]
  },
  {
   "cell_type": "code",
   "execution_count": null,
   "metadata": {},
   "outputs": [],
   "source": []
  },
  {
   "cell_type": "code",
   "execution_count": null,
   "metadata": {},
   "outputs": [],
   "source": []
  }
 ],
 "metadata": {
  "kernelspec": {
   "display_name": "Python 3",
   "language": "python",
   "name": "python3"
  },
  "language_info": {
   "codemirror_mode": {
    "name": "ipython",
    "version": 3
   },
   "file_extension": ".py",
   "mimetype": "text/x-python",
   "name": "python",
   "nbconvert_exporter": "python",
   "pygments_lexer": "ipython3",
   "version": "3.7.8"
  }
 },
 "nbformat": 4,
 "nbformat_minor": 4
}
